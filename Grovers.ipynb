{
 "cells": [
  {
   "cell_type": "code",
   "execution_count": 1,
   "metadata": {},
   "outputs": [
    {
     "name": "stdout",
     "output_type": "stream",
     "text": [
      "Populating the interactive namespace from numpy and matplotlib\n"
     ]
    }
   ],
   "source": [
    "%pylab inline\n",
    "from scipy.linalg import hadamard"
   ]
  },
  {
   "cell_type": "markdown",
   "metadata": {},
   "source": [
    "**Qubits**\n",
    "\n",
    "The state of a qubit can be represented as a column vector.\n",
    "\n",
    "$$\n",
    "\\lvert0\\rangle =\n",
    "\\begin{bmatrix}\n",
    "    1 \\\\\n",
    "    0 \\\\\n",
    "\\end{bmatrix}$$\n",
    "\n",
    "$$\\lvert1\\rangle =\n",
    "\\begin{bmatrix}\n",
    "    0 \\\\\n",
    "    1 \\\\\n",
    "\\end{bmatrix}$$\n",
    "\n",
    "The main difference between bits and qubits is that a qubit $\\lvert\\psi\\rangle$ can also be in a linear combination of states $\\lvert0\\rangle$ and $\\lvert1\\rangle$. This state is called a $\\textit{superposition}$ with $\\textit{amplitudes}$ $\\alpha$ and $\\beta$.\n",
    "\n",
    "$$\\lvert\\psi\\rangle = \\alpha \\lvert0\\rangle + \\beta \\lvert1\\rangle$$\n",
    "\n",
    "Due to quantum mechanics, when we measure the state $\\lvert\\psi\\rangle$ we get either $\\lvert0\\rangle$ with probability $|\\alpha|^{2}$ or $\\lvert1\\rangle$ with probability $|\\beta|^{2}$. This is because measurement produces a nondeterministic collapse of the superposition to either $\\lvert0\\rangle$ or $\\lvert1\\rangle$. Since $|\\alpha|^{2}$ and $|\\beta|^{2}$ are probabilites that must sum to $1$ we get:\n",
    "\n",
    "$$ ||\\lvert\\psi\\rangle|| = \\sqrt{|\\alpha|^{2} + |\\beta|^{2}} = 1$$"
   ]
  },
  {
   "cell_type": "code",
   "execution_count": 2,
   "metadata": {},
   "outputs": [
    {
     "data": {
      "text/plain": [
       "array([[0.70710678],\n",
       "       [0.70710678]])"
      ]
     },
     "execution_count": 2,
     "metadata": {},
     "output_type": "execute_result"
    }
   ],
   "source": [
    "def normalise(*qubits):\n",
    "    \"\"\"Create superposition state with equal amplitudes\"\"\"\n",
    "    result = np.zeros(qubits[0].shape)\n",
    "    for qubit in qubits:\n",
    "        result += qubit/np.linalg.norm(qubits)\n",
    "    return result\n",
    "\n",
    "# Create the qubits \n",
    "zero = np.array([[1.0],[0.0]])\n",
    "one = np.array([[0.0],[1.0]])\n",
    "\n",
    "normalise(zero, one)"
   ]
  },
  {
   "cell_type": "markdown",
   "metadata": {},
   "source": [
    "**Computational Basis**\n",
    "\n",
    "get the circle"
   ]
  },
  {
   "cell_type": "code",
   "execution_count": 3,
   "metadata": {},
   "outputs": [],
   "source": [
    "def computational_basis(n):\n",
    "    return np.hsplit(np.eye(n),n)"
   ]
  },
  {
   "cell_type": "markdown",
   "metadata": {},
   "source": [
    "**Hadamard Gate**\n",
    "\n",
    "The Hadamard gate is an important one-qubit gate, given by:\n",
    "\n",
    "$$ H = \\frac{1}{\\sqrt{2}} \n",
    "\\begin{bmatrix}\n",
    "    1 & 1 \\\\\n",
    "    1 & -1 \\\\\n",
    "\\end{bmatrix}$$\n",
    "\n",
    "If pass 0 through we get..."
   ]
  },
  {
   "cell_type": "code",
   "execution_count": 4,
   "metadata": {},
   "outputs": [
    {
     "data": {
      "text/plain": [
       "array([[ 0.70710678],\n",
       "       [-0.70710678]])"
      ]
     },
     "execution_count": 4,
     "metadata": {},
     "output_type": "execute_result"
    }
   ],
   "source": [
    "def H(qubit):\n",
    "    \"\"\"Returns qubit passed through H\"\"\"\n",
    "    \n",
    "    h = 1./np.sqrt(qubit.shape[0]) * hadamard(qubit.shape[0])\n",
    "    return np.dot(h, qubit)\n",
    "\n",
    "H(one)"
   ]
  },
  {
   "cell_type": "markdown",
   "metadata": {},
   "source": [
    "**Tensor Product**\n",
    "\n",
    "$\\lvert00\\rangle =\n",
    "\\begin{bmatrix}\n",
    "    1 \\\\\n",
    "    0 \\\\\n",
    "\\end{bmatrix}\n",
    "\\otimes\n",
    "\\begin{bmatrix}\n",
    "    1 \\\\\n",
    "    0 \\\\\n",
    "\\end{bmatrix} = \n",
    "\\begin{bmatrix}\n",
    "    1 \\\\\n",
    "    0 \\\\\n",
    "    0 \\\\\n",
    "    0 \\\\\n",
    "\\end{bmatrix}$, $\\lvert01\\rangle =\n",
    "\\begin{bmatrix}\n",
    "    1 \\\\\n",
    "    0 \\\\\n",
    "\\end{bmatrix}\n",
    "\\otimes\n",
    "\\begin{bmatrix}\n",
    "    0 \\\\\n",
    "    1 \\\\\n",
    "\\end{bmatrix} = \n",
    "\\begin{bmatrix}\n",
    "    0 \\\\\n",
    "    1 \\\\\n",
    "    0 \\\\\n",
    "    0 \\\\\n",
    "\\end{bmatrix}$, $\\lvert10\\rangle =\n",
    "\\begin{bmatrix}\n",
    "    0 \\\\\n",
    "    1 \\\\\n",
    "\\end{bmatrix}\n",
    "\\otimes\n",
    "\\begin{bmatrix}\n",
    "    1 \\\\\n",
    "    0 \\\\\n",
    "\\end{bmatrix} = \n",
    "\\begin{bmatrix}\n",
    "    0 \\\\\n",
    "    0 \\\\\n",
    "    1 \\\\\n",
    "    0 \\\\\n",
    "\\end{bmatrix}$, $\\lvert11\\rangle =\n",
    "\\begin{bmatrix}\n",
    "    0 \\\\\n",
    "    1 \\\\\n",
    "\\end{bmatrix}\n",
    "\\otimes\n",
    "\\begin{bmatrix}\n",
    "    0 \\\\\n",
    "    1 \\\\\n",
    "\\end{bmatrix} = \n",
    "\\begin{bmatrix}\n",
    "    0 \\\\\n",
    "    0 \\\\\n",
    "    0 \\\\\n",
    "    1 \\\\\n",
    "\\end{bmatrix}\n",
    "$"
   ]
  },
  {
   "cell_type": "code",
   "execution_count": 5,
   "metadata": {},
   "outputs": [
    {
     "data": {
      "text/plain": [
       "array([[0.],\n",
       "       [1.],\n",
       "       [0.],\n",
       "       [0.]])"
      ]
     },
     "execution_count": 5,
     "metadata": {},
     "output_type": "execute_result"
    }
   ],
   "source": [
    "def kron_prod(*qubits):\n",
    "    #Calculate a Kronecker product over a variable number of inputs\n",
    "    result = np.array([[1.0]])\n",
    "    for qubit in qubits:\n",
    "        result = np.kron(result, qubit)\n",
    "    return result\n",
    "\n",
    "kron_prod(zero, one)"
   ]
  },
  {
   "cell_type": "markdown",
   "metadata": {},
   "source": [
    "**CNOT**\n",
    "\n",
    "The CNOT gate is another important one-qubit gate, given by:\n",
    "\n",
    "$$X = \n",
    "\\begin{bmatrix}\n",
    "    0 & 1 \\\\\n",
    "    1 & 0 \\\\\n",
    "\\end{bmatrix}$$"
   ]
  },
  {
   "cell_type": "code",
   "execution_count": 6,
   "metadata": {},
   "outputs": [
    {
     "name": "stdout",
     "output_type": "stream",
     "text": [
      "[[1.]\n",
      " [0.]]\n"
     ]
    },
    {
     "data": {
      "text/plain": [
       "array([[0.],\n",
       "       [1.]])"
      ]
     },
     "execution_count": 6,
     "metadata": {},
     "output_type": "execute_result"
    }
   ],
   "source": [
    "def cnot(qubit):\n",
    "    X = np.eye(qubit.shape[0])[::-1]\n",
    "    return np.dot(X, qubit)\n",
    "\n",
    "print(zero)\n",
    "cnot(zero)"
   ]
  },
  {
   "cell_type": "markdown",
   "metadata": {},
   "source": [
    "**Measurement**\n",
    "\n",
    "Describe measurement and collapse\n",
    "\n",
    "Define projectors P0 and P1\n",
    "\n",
    "$$P_0 = \\lvert0\\rangle\\langle0\\rvert = \\begin{bmatrix} 1 \\ 0 \\end{bmatrix} \\begin{bmatrix} 1 & 0 \\end{bmatrix} = \\begin{bmatrix} 1 & 0 \\ 0 & 0 \\end{bmatrix}$$\n",
    "\n",
    "$$P_1 = \\lvert1\\rangle\\langle0\\rvert = \\begin{bmatrix} 0 \\ 1 \\end{bmatrix} \\begin{bmatrix} 0 & 1 \\end{bmatrix} = \\begin{bmatrix} 0 & 0 \\ 0 & 1 \\end{bmatrix}$$\n",
    "\n",
    "talk about randomness"
   ]
  },
  {
   "cell_type": "code",
   "execution_count": 7,
   "metadata": {},
   "outputs": [
    {
     "data": {
      "image/png": "[encoded data removed]",
      "text/plain": [
       "<Figure size 432x288 with 1 Axes>"
      ]
     },
     "metadata": {},
     "output_type": "display_data"
    }
   ],
   "source": [
    "def measure(state):\n",
    "    ps = []\n",
    "    cb = computational_basis(state.shape[0])\n",
    "    for i in range(state.shape[0]):\n",
    "        ps.append(np.dot(cb[i],cb[i].T))\n",
    "    \n",
    "    identity = np.eye(state.shape[0])\n",
    "    \n",
    "    rho = np.dot(state, state.T)\n",
    "    \n",
    "    result = 0\n",
    "    r = np.random.uniform(0, sum(np.diag(rho)))\n",
    "    for p in np.diag(rho):\n",
    "        r -= p\n",
    "        if r <= 0:\n",
    "            break\n",
    "        result += 1\n",
    "    \n",
    "    result_state = normalise(np.dot(np.dot(ps[result], identity), state))\n",
    "    \n",
    "    \n",
    "    return result, result_state\n",
    "\n",
    "zero = np.array([[1.0],[0.0],[0.0]])\n",
    "one = np.array([[0.0],[1.0],[0.0]])\n",
    "two = np.array([[0.0],[0.0],[1.0]])\n",
    "\n",
    "results = [0 for s in range(zero.shape[0])]\n",
    "for i in range(10000):\n",
    "    result, state = measure(normalise(one, zero, two))\n",
    "    results[result-1] += 1\n",
    "results /= sum(results)\n",
    "\n",
    "fig, ax = plt.subplots()\n",
    "\n",
    "index = np.arange(state.shape[0])\n",
    "bar_width,opacity = 0.8, 0.4\n",
    "\n",
    "rects = ax.bar(index, results, bar_width,\n",
    "                alpha=opacity, color='b')\n",
    "\n",
    "ax.set_xlabel('Vector of Computational Basis')\n",
    "ax.set_ylabel('Probability of Collapse')\n",
    "ax.set_title('Superposition Collapse')\n",
    "ax.set_xticks(index)\n",
    "ax.set_xticklabels([r'$\\left|{'+str(v)+r'}\\right\\rangle$' for v in range(state.shape[0])])\n",
    "\n",
    "fig.tight_layout()\n",
    "plt.show()"
   ]
  },
  {
   "cell_type": "markdown",
   "metadata": {},
   "source": [
    "**Oracle Function**\n",
    "\n",
    "maths"
   ]
  },
  {
   "cell_type": "code",
   "execution_count": 8,
   "metadata": {},
   "outputs": [
    {
     "name": "stdout",
     "output_type": "stream",
     "text": [
      "O(0,0) = 1.0\n",
      "O(0,1) = 0.0\n"
     ]
    },
    {
     "data": {
      "text/plain": [
       "array([[ 0.5],\n",
       "       [-0.5]])"
      ]
     },
     "execution_count": 8,
     "metadata": {},
     "output_type": "execute_result"
    }
   ],
   "source": [
    "def f(i, j):\n",
    "    if i is j:\n",
    "        return 1\n",
    "    return 0\n",
    "\n",
    "def oracle(i, j):\n",
    "    return ((-1)**f(i,j))*i*j\n",
    "\n",
    "zero = np.array([[1.0],[0.0]])\n",
    "one = np.array([[0.0],[1.0]])\n",
    "\n",
    "print(\"O(0,0) =\",np.round(sum(oracle(H(zero), H(zero)))))\n",
    "print(\"O(0,1) =\",np.round(sum(oracle(H(zero), H(one)))))\n",
    "oracle(H(zero), H(one))"
   ]
  },
  {
   "cell_type": "code",
   "execution_count": 9,
   "metadata": {},
   "outputs": [],
   "source": [
    "def G(psi, target):\n",
    "    return ((2**(target.shape[0]-2))-1)/(2**(target.shape[0]-2))*psi + (2/sqrt(2**target.shape[0]))*target"
   ]
  },
  {
   "cell_type": "markdown",
   "metadata": {},
   "source": [
    "**Grover's Algorithm**\n",
    "\n",
    "registers\n",
    "\n",
    "produce an equally weighted superpositionof all computational basis states."
   ]
  },
  {
   "cell_type": "code",
   "execution_count": 10,
   "metadata": {},
   "outputs": [
    {
     "name": "stdout",
     "output_type": "stream",
     "text": [
      "Iterations: 0\n",
      "2\n",
      "[[0.]\n",
      " [0.]\n",
      " [1.]\n",
      " [0.]]\n"
     ]
    }
   ],
   "source": [
    "n = 4 # N = 2^n\n",
    "zero = np.array([[1.0],[0.0],[0.0],[0.0]])\n",
    "one = np.array([[0.0],[1.0],[0.0],[0.0]])\n",
    "two = np.array([[0.0],[0.0],[1.0],[0.0]])\n",
    "three = np.array([[0.0],[0.0],[0.0],[1.0]])\n",
    "\n",
    "\n",
    "register1 = computational_basis(n)\n",
    "register2 = [two]\n",
    "\n",
    "psi = normalise(*register1)\n",
    "target = H(*register2)\n",
    "\n",
    "psi = oracle(psi, target)\n",
    "psiG = G(psi, *register2)\n",
    "\n",
    "iterations = int((np.pi/4)*sqrt(2**n))\n",
    "    \n",
    "for i in range(iterations):\n",
    "    result, state = measure(psiG)\n",
    "    if np.array_equal(state, *register2):\n",
    "        break\n",
    "    psi = oracle(psiG, target)\n",
    "    psiG = G(psi, *register2)\n",
    "\n",
    "print(\"Iterations:\",i-1)\n",
    "print(result)\n",
    "print(state)\n"
   ]
  },
  {
   "cell_type": "code",
   "execution_count": null,
   "metadata": {},
   "outputs": [],
   "source": []
  }
 ],
 "metadata": {
  "kernelspec": {
   "display_name": "Python 3",
   "language": "python",
   "name": "python3"
  },
  "language_info": {
   "codemirror_mode": {
    "name": "ipython",
    "version": 3
   },
   "file_extension": ".py",
   "mimetype": "text/x-python",
   "name": "python",
   "nbconvert_exporter": "python",
   "pygments_lexer": "ipython3",
   "version": "3.6.5"
  }
 },
 "nbformat": 4,
 "nbformat_minor": 2
}
